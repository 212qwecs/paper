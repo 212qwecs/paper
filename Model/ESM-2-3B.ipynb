{
 "cells": [
  {
   "cell_type": "code",
   "execution_count": null,
   "id": "cd0802bf",
   "metadata": {},
   "outputs": [],
   "source": [
    "from transformers import AutoModel, AutoTokenizer\n",
    "import pandas as pd\n",
    "import torch\n",
    "\n",
    "model = AutoModel.from_pretrained('/autodl-fs/data/ESM2-3B')\n",
    "tokenizer = AutoTokenizer.from_pretrained('/autodl-fs/data/ESM2-3B')\n",
    "\n",
    "model.eval()\n",
    "\n",
    "device = torch.device(\"cpu\")\n",
    "model.to(device)\n",
    "\n",
    "df = pd.read_csv('../Data/data1.csv')\n",
    "\n",
    "sequences = df['Sequence'].tolist()\n",
    "protein_names = df['Protein_ID'].tolist()\n",
    "\n",
    "batch_size = 1  ",
    "all_representations = []\n",
    "\n",
    "for i in range(0, len(sequences), batch_size):\n",
    "    batch_sequences = sequences[i:i + batch_size]\n",
    "    batch_names = protein_names[i:i + batch_size]\n",
    "\n",
    "    encodings = tokenizer(batch_sequences, return_tensors='pt', padding=True, truncation=True)\n",
    "\n",
    "    encodings = {key: val.to(device) for key, val in encodings.items()}\n",
    "\n",
    "    with torch.no_grad():\n",
    "        outputs = model(**encodings)\n",
    "\n",
    "    sequence_representations = outputs.last_hidden_state.mean(dim=1)  # [batch_size, hidden_size]\n",
    "    \n",
    "    all_representations.append(sequence_representations.cpu())\n",
    "\n",
    "all_representations = torch.cat(all_representations, dim=0)\n",
    "\n",
    "sequence_representations_np = all_representations.numpy()\n",
    "\n",
    "output_df = pd.DataFrame(sequence_representations_np, index=protein_names)\n",
    "\n",
    "output_df.to_csv('/autodl-fs/data/realdata4.csv')\n",
    "\n",
    "print(\"特征已经保存为 data2.csv 文件\")\n"
   ]
  }
 ],
 "metadata": {
  "kernelspec": {
   "display_name": "Python 3 (ipykernel)",
   "language": "python",
   "name": "python3"
  },
  "language_info": {
   "codemirror_mode": {
    "name": "ipython",
    "version": 3
   },
   "file_extension": ".py",
   "mimetype": "text/x-python",
   "name": "python",
   "nbconvert_exporter": "python",
   "pygments_lexer": "ipython3",
   "version": "3.10.9"
  }
 },
 "nbformat": 4,
 "nbformat_minor": 5
}
