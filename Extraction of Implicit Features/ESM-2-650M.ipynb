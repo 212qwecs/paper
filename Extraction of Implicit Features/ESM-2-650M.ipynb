{
 "cells": [
  {
   "cell_type": "code",
   "execution_count": 3,
   "id": "d23c6eab",
   "metadata": {},
   "outputs": [
    {
     "name": "stderr",
     "output_type": "stream",
     "text": [
      "Some weights of the model checkpoint at D://jupyter//esm2-650M//rost//rost1 were not used when initializing EsmModel: ['esm.contact_head.regression.weight', 'classifier.dense.bias', 'classifier.dense.weight', 'classifier.out_proj.bias', 'classifier.out_proj.weight', 'esm.contact_head.regression.bias']\n",
      "- This IS expected if you are initializing EsmModel from the checkpoint of a model trained on another task or with another architecture (e.g. initializing a BertForSequenceClassification model from a BertForPreTraining model).\n",
      "- This IS NOT expected if you are initializing EsmModel from the checkpoint of a model that you expect to be exactly identical (initializing a BertForSequenceClassification model from a BertForSequenceClassification model).\n",
      "Some weights of EsmModel were not initialized from the model checkpoint at D://jupyter//esm2-650M//rost//rost1 and are newly initialized: ['esm.pooler.dense.bias', 'esm.pooler.dense.weight']\n",
      "You should probably TRAIN this model on a down-stream task to be able to use it for predictions and inference.\n"
     ]
    },
    {
     "name": "stdout",
     "output_type": "stream",
     "text": [
      "模型和分词器已成功加载！\n"
     ]
    }
   ],
   "source": [
    "import torch\n",
    "from transformers import AutoModel, AutoTokenizer\n",
    "import pandas as pd\n",
    "\n",
    "# 指定模型文件路径\n",
    "model_path = \"../Data/data1.csv"  # 确保此路径包含 .bin 和 .json 文件\n",
    "\n",
    "# 使用 Hugging Face 加载模型和分词器\n",
    "try:\n",
    "    model = AutoModel.from_pretrained(model_path)\n",
    "    tokenizer = AutoTokenizer.from_pretrained(model_path)\n",
    "    print(\"模型和分词器已成功加载！\")\n",
    "except Exception as e:\n",
    "    print(f\"加载模型时出错: {e}\")\n",
    "\n",
    "# 将模型移至 GPU（如果可用）\n",
    "device = torch.device(\"cuda\" if torch.cuda.is_available() else \"cpu\")\n",
    "model = model.to(device)"
   ]
  },
  {
   "cell_type": "code",
   "execution_count": null,
   "id": "9d9e4bb7",
   "metadata": {},
   "outputs": [],
   "source": [
    "# 读取 CSV 文件，假设文件中有一列名为 'sequence'\n",
    "csv_file_path = \"realdata1.csv\"\n",
    "df = pd.read_csv(csv_file_path)\n",
    "\n",
    "# 提取蛋白质序列列\n",
    "protein_sequences = df['Sequence'].iloc[800:900].tolist()\n",
    "\n",
    "# 将序列转换为适合模型的输入格式\n",
    "sequences = [seq for seq in protein_sequences]\n",
    "\n",
    "# 设置批次大小\n",
    "batch_size = 10\n",
    "embeddings = []\n",
    "\n",
    "# 分批处理蛋白质序列\n",
    "for i in range(0, len(sequences), batch_size):\n",
    "    batch_sequences = sequences[i:i + batch_size]\n",
    "\n",
    "    # 使用 tokenizer 对序列进行分词\n",
    "    inputs = tokenizer(batch_sequences, max_length=512,return_tensors=\"pt\", padding=True, truncation=True)\n",
    "    \n",
    "    # 将输入移动到设备\n",
    "    inputs = {key: value.to(device) for key, value in inputs.items()}\n",
    "\n",
    "    # 生成嵌入表示\n",
    "    with torch.no_grad():\n",
    "        outputs = model(**inputs)\n",
    "\n",
    "    # 获取最后一层的输出（如果适用，可以获取特定的层）\n",
    "    token_representations = outputs.last_hidden_state\n",
    "\n",
    "    # 平均池化以获取全局蛋白质嵌入\n",
    "    for j in range(len(batch_sequences)):\n",
    "        emb_per_protein = token_representations[j].mean(dim=0).cpu().numpy()\n",
    "        embeddings.append(emb_per_protein)\n",
    "\n",
    "# 保存嵌入到 CSV 文件\n",
    "embedding_df = pd.DataFrame(embeddings)\n",
    "embedding_df.to_csv(\"esm2650M_protein_embeddings.csv\", index=False)\n",
    "\n",
    "print(\"蛋白质嵌入已成功保存到 'esm2_protein_embeddings.csv' 文件中。\")"
   ]
  },
  {
   "cell_type": "code",
   "execution_count": null,
   "id": "d593a1c4",
   "metadata": {},
   "outputs": [],
   "source": []
  }
 ],
 "metadata": {
  "kernelspec": {
   "display_name": "Python 3 (ipykernel)",
   "language": "python",
   "name": "python3"
  },
  "language_info": {
   "codemirror_mode": {
    "name": "ipython",
    "version": 3
   },
   "file_extension": ".py",
   "mimetype": "text/x-python",
   "name": "python",
   "nbconvert_exporter": "python",
   "pygments_lexer": "ipython3",
   "version": "3.10.9"
  }
 },
 "nbformat": 4,
 "nbformat_minor": 5
}
